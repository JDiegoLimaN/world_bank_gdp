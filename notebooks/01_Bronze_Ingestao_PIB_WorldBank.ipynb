{
 "cells": [
  {
   "cell_type": "code",
   "execution_count": 0,
   "metadata": {
    "application/vnd.databricks.v1+cell": {
     "cellMetadata": {
      "byteLimit": 2048000,
      "rowLimit": 10000
     },
     "inputWidgets": {},
     "nuid": "56f20efc-1501-4146-9d1b-d961063a51e0",
     "showTitle": false,
     "tableResultSettingsMap": {},
     "title": ""
    }
   },
   "outputs": [],
   "source": [
    "# Importações de ambiente\n",
    "import requests\n",
    "import pandas as pd\n",
    "from pyspark.sql.functions import current_timestamp, lit\n",
    "from pyspark.sql.utils import AnalysisException"
   ]
  },
  {
   "cell_type": "code",
   "execution_count": 0,
   "metadata": {
    "application/vnd.databricks.v1+cell": {
     "cellMetadata": {
      "byteLimit": 2048000,
      "rowLimit": 10000
     },
     "inputWidgets": {},
     "nuid": "a2dff6c9-1eb3-472a-99ca-6afa43a0cf59",
     "showTitle": false,
     "tableResultSettingsMap": {},
     "title": ""
    }
   },
   "outputs": [],
   "source": [
    "# 1. Definição da URL da API (PIB real, % anual)\n",
    "url = \"http://api.worldbank.org/v2/country/all/indicator/NY.GDP.MKTP.KD.ZG?format=json&per_page=20000\""
   ]
  },
  {
   "cell_type": "code",
   "execution_count": 0,
   "metadata": {
    "application/vnd.databricks.v1+cell": {
     "cellMetadata": {
      "byteLimit": 2048000,
      "rowLimit": 10000
     },
     "inputWidgets": {},
     "nuid": "a1ce9d84-b510-4b14-aa88-23e8cec42ddb",
     "showTitle": false,
     "tableResultSettingsMap": {},
     "title": ""
    }
   },
   "outputs": [],
   "source": [
    "# 2. Requisição HTTP\n",
    "response = requests.get(url)\n",
    "if response.status_code != 200:\n",
    "    raise Exception(f\"Erro ao acessar a API: {response.status_code}\")"
   ]
  },
  {
   "cell_type": "code",
   "execution_count": 0,
   "metadata": {
    "application/vnd.databricks.v1+cell": {
     "cellMetadata": {
      "byteLimit": 2048000,
      "rowLimit": 10000
     },
     "inputWidgets": {},
     "nuid": "7dd2e99b-0069-4fc9-8542-f24f76944d6e",
     "showTitle": false,
     "tableResultSettingsMap": {},
     "title": ""
    }
   },
   "outputs": [],
   "source": [
    "# 3. Conversão do JSON\n",
    "data_json = response.json()"
   ]
  },
  {
   "cell_type": "code",
   "execution_count": 0,
   "metadata": {
    "application/vnd.databricks.v1+cell": {
     "cellMetadata": {
      "byteLimit": 2048000,
      "rowLimit": 10000
     },
     "inputWidgets": {},
     "nuid": "0024f69f-f247-40ca-8759-f8161e9b5b66",
     "showTitle": false,
     "tableResultSettingsMap": {},
     "title": ""
    }
   },
   "outputs": [],
   "source": [
    "# 4. Validação da estrutura esperada\n",
    "if len(data_json) < 2 or not isinstance(data_json[1], list):\n",
    "    raise ValueError(\"Estrutura insesperada na resposta da API.\")"
   ]
  },
  {
   "cell_type": "code",
   "execution_count": 0,
   "metadata": {
    "application/vnd.databricks.v1+cell": {
     "cellMetadata": {
      "byteLimit": 2048000,
      "rowLimit": 10000
     },
     "inputWidgets": {},
     "nuid": "d6edf6f6-1f9d-4ade-8a39-097cba76e0f4",
     "showTitle": false,
     "tableResultSettingsMap": {},
     "title": ""
    }
   },
   "outputs": [],
   "source": [
    "# 5. Conversão para DataFrame Pandas\n",
    "pdf = pd.DataFrame(data_json[1])"
   ]
  },
  {
   "cell_type": "code",
   "execution_count": 0,
   "metadata": {
    "application/vnd.databricks.v1+cell": {
     "cellMetadata": {
      "byteLimit": 2048000,
      "rowLimit": 10000
     },
     "inputWidgets": {},
     "nuid": "3af37656-bffd-4b3a-b7ce-c93404f7916a",
     "showTitle": false,
     "tableResultSettingsMap": {},
     "title": ""
    }
   },
   "outputs": [],
   "source": [
    "# 6. Seleção e transformação de colunas\n",
    "if not {\"country\", \"countryiso3code\", \"date\", \"value\"}.issubset(pdf.columns):\n",
    "    raise ValueError(\"Colunas esperadas não encontradas no JSON\")\n",
    "\n",
    "pdf = pdf[[\"country\", \"countryiso3code\", \"date\", \"value\"]]\n",
    "pdf[\"country\"] = pdf[\"country\"].apply(lambda x: x.get(\"value\") if isinstance(x, dict) else x)"
   ]
  },
  {
   "cell_type": "code",
   "execution_count": 0,
   "metadata": {
    "application/vnd.databricks.v1+cell": {
     "cellMetadata": {
      "byteLimit": 2048000,
      "rowLimit": 10000
     },
     "inputWidgets": {},
     "nuid": "22172246-45dc-404a-bcee-372d5ae16993",
     "showTitle": false,
     "tableResultSettingsMap": {},
     "title": ""
    }
   },
   "outputs": [],
   "source": [
    "# 7. Conversão para Spark DataFrame + colunas extras\n",
    "df = (spark.createDataFrame(pdf)\n",
    "      .withColumn(\"ingest_timestamp\", current_timestamp())\n",
    "      .withColumn(\"ingest_file_name\", lit(\"api_worldbank\")))"
   ]
  },
  {
   "cell_type": "code",
   "execution_count": 0,
   "metadata": {
    "application/vnd.databricks.v1+cell": {
     "cellMetadata": {
      "byteLimit": 2048000,
      "rowLimit": 10000
     },
     "inputWidgets": {},
     "nuid": "d03484c2-036b-4e0f-bd4e-4803a5e138eb",
     "showTitle": false,
     "tableResultSettingsMap": {},
     "title": ""
    }
   },
   "outputs": [],
   "source": [
    "# 8. Escrita na camada Bronze (Delta + particionado)\n",
    "output_path = \"/Volumes/workspace/world_bank/bronze\"\n",
    "\n",
    "try:\n",
    "    df.write.format(\"delta\").mode(\"overwrite\").partitionBy(\"date\").save(output_path)\n",
    "\n",
    "    print(\"✅ Dados salvos com sucesso na camada Bronze.\")\n",
    "\n",
    "    # Criar tabela no catalogo\n",
    "    spark.sql(\"DROP TABLE IF EXISTS workspace.world_bank.gdp_anual\")  # Evita erros se já existir\n",
    "    spark.sql(f\"CREATE TABLE workspace.world_bank.gdp_anual USING DELTA LOCATION '{output_path}'\")\n",
    "    print(\"✅ Tabela bronze.gdp_anual criada com sucesso.\")\n",
    "\n",
    "except AnalysisException as e:\n",
    "    print(f\"❌ Erro ao salvar dados na camada Bronze: {e}\")"
   ]
  },
  {
   "cell_type": "code",
   "execution_count": 0,
   "metadata": {
    "application/vnd.databricks.v1+cell": {
     "cellMetadata": {
      "byteLimit": 2048000,
      "rowLimit": 10000
     },
     "inputWidgets": {},
     "nuid": "60731ec2-d1b7-4e40-8e07-7ad0058a38b2",
     "showTitle": false,
     "tableResultSettingsMap": {},
     "title": ""
    }
   },
   "outputs": [],
   "source": [
    "# Pipeline:\n",
    "# - Fonte: API Banco Mundial - PIB anual (%)\n",
    "# - Ingestão: camada Bronze (formato Delta, particionado por ano)\n",
    "# - Tabela: bronze.pib_anual\n",
    "# - Campos extras: data_ingestao, fonte"
   ]
  }
 ],
 "metadata": {
  "application/vnd.databricks.v1+notebook": {
   "computePreferences": null,
   "dashboards": [],
   "environmentMetadata": {
    "base_environment": "",
    "environment_version": "2"
   },
   "inputWidgetPreferences": null,
   "language": "python",
   "notebookMetadata": {
    "pythonIndentUnit": 4
   },
   "notebookName": "01_Bronze_Ingestao_PIB_WorldBank",
   "widgets": {}
  },
  "language_info": {
   "name": "python"
  }
 },
 "nbformat": 4,
 "nbformat_minor": 0
}
